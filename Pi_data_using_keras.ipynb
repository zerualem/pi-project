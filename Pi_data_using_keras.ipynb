{
  "nbformat": 4,
  "nbformat_minor": 0,
  "metadata": {
    "colab": {
      "name": "Pi data using keras.ipynb",
      "version": "0.3.2",
      "provenance": [],
      "collapsed_sections": [],
      "include_colab_link": true
    },
    "kernelspec": {
      "name": "python3",
      "display_name": "Python 3"
    }
  },
  "cells": [
    {
      "cell_type": "markdown",
      "metadata": {
        "id": "view-in-github",
        "colab_type": "text"
      },
      "source": [
        "<a href=\"https://colab.research.google.com/github/zerualem/pi-project/blob/master/Pi_data_using_keras.ipynb\" target=\"_parent\"><img src=\"https://colab.research.google.com/assets/colab-badge.svg\" alt=\"Open In Colab\"/></a>"
      ]
    },
    {
      "cell_type": "code",
      "metadata": {
        "id": "dlKjEg6jvsup",
        "colab_type": "code",
        "colab": {}
      },
      "source": [
        ""
      ],
      "execution_count": 0,
      "outputs": []
    },
    {
      "cell_type": "code",
      "metadata": {
        "id": "AE-HOqGLv0BS",
        "colab_type": "code",
        "colab": {
          "base_uri": "https://localhost:8080/",
          "height": 137
        },
        "outputId": "93441108-97ad-4c15-ce4d-e27c6d366853"
      },
      "source": [
        "from google.colab import drive\n",
        "drive.mount('/gdrive')\n",
        "%cd /gdrive"
      ],
      "execution_count": 4,
      "outputs": [
        {
          "output_type": "stream",
          "text": [
            "Go to this URL in a browser: https://accounts.google.com/o/oauth2/auth?client_id=947318989803-6bn6qk8qdgf4n4g3pfee6491hc0brc4i.apps.googleusercontent.com&redirect_uri=urn%3Aietf%3Awg%3Aoauth%3A2.0%3Aoob&scope=email%20https%3A%2F%2Fwww.googleapis.com%2Fauth%2Fdocs.test%20https%3A%2F%2Fwww.googleapis.com%2Fauth%2Fdrive%20https%3A%2F%2Fwww.googleapis.com%2Fauth%2Fdrive.photos.readonly%20https%3A%2F%2Fwww.googleapis.com%2Fauth%2Fpeopleapi.readonly&response_type=code\n",
            "\n",
            "Enter your authorization code:\n",
            "··········\n",
            "Mounted at /gdrive\n",
            "/gdrive\n"
          ],
          "name": "stdout"
        }
      ]
    },
    {
      "cell_type": "code",
      "metadata": {
        "id": "B89FsZTqw6tW",
        "colab_type": "code",
        "colab": {
          "base_uri": "https://localhost:8080/",
          "height": 33
        },
        "outputId": "f747c426-a79a-47fc-d4c6-5deb39399cae"
      },
      "source": [
        "!dir"
      ],
      "execution_count": 6,
      "outputs": [
        {
          "output_type": "stream",
          "text": [
            "My\\ Drive\n"
          ],
          "name": "stdout"
        }
      ]
    },
    {
      "cell_type": "code",
      "metadata": {
        "id": "nIWkNLiSw6-i",
        "colab_type": "code",
        "colab": {
          "base_uri": "https://localhost:8080/",
          "height": 33
        },
        "outputId": "4d7bbdef-ddb5-47d0-e5f8-469057f22696"
      },
      "source": [
        "%cd My\\ Drive/PIPM_Data_R_code/Analysis"
      ],
      "execution_count": 8,
      "outputs": [
        {
          "output_type": "stream",
          "text": [
            "/gdrive/My Drive/PIPM_Data_R_code/Analysis\n"
          ],
          "name": "stdout"
        }
      ]
    },
    {
      "cell_type": "code",
      "metadata": {
        "id": "KoR7Cb2mw7Iw",
        "colab_type": "code",
        "colab": {
          "base_uri": "https://localhost:8080/",
          "height": 33
        },
        "outputId": "e61dad2f-3a9d-4985-e558-262f19f70620"
      },
      "source": [
        "import pandas as pd\n",
        "\n",
        "all_dmy = pd.read_csv('all_piData_dmy.csv')\n",
        "all_dmy.shape"
      ],
      "execution_count": 9,
      "outputs": [
        {
          "output_type": "execute_result",
          "data": {
            "text/plain": [
              "(26258, 238)"
            ]
          },
          "metadata": {
            "tags": []
          },
          "execution_count": 9
        }
      ]
    },
    {
      "cell_type": "code",
      "metadata": {
        "id": "VFjMY06PzGK7",
        "colab_type": "code",
        "colab": {
          "base_uri": "https://localhost:8080/",
          "height": 33
        },
        "outputId": "f6da3d4a-d465-4bbe-cdda-958f6b1cb41f"
      },
      "source": [
        "all_dmy.columns[all_dmy.columns.str.startswith('pressure_injury_poa')]"
      ],
      "execution_count": 20,
      "outputs": [
        {
          "output_type": "execute_result",
          "data": {
            "text/plain": [
              "Index(['pressure_injury_poa.Yes'], dtype='object')"
            ]
          },
          "metadata": {
            "tags": []
          },
          "execution_count": 20
        }
      ]
    },
    {
      "cell_type": "code",
      "metadata": {
        "id": "3R7soyIByh1A",
        "colab_type": "code",
        "colab": {
          "base_uri": "https://localhost:8080/",
          "height": 33
        },
        "outputId": "1cab5954-af2e-4c3d-ceec-f9ade0c8386c"
      },
      "source": [
        "y = all_dmy[['pi']]\n",
        "X = all_dmy.drop(['pi', 'pi_dayfromadmit', 'pressure_injury_poa.Yes'], axis=1)\n",
        "X.shape"
      ],
      "execution_count": 10,
      "outputs": [
        {
          "output_type": "execute_result",
          "data": {
            "text/plain": [
              "(26258, 235)"
            ]
          },
          "metadata": {
            "tags": []
          },
          "execution_count": 10
        }
      ]
    },
    {
      "cell_type": "code",
      "metadata": {
        "id": "UmeEW6aNyW0D",
        "colab_type": "code",
        "colab": {}
      },
      "source": [
        "import numpy as np\n",
        "from sklearn.model_selection import train_test_split\n",
        "\n",
        "X_train, X_test, y_train, y_test = train_test_split(X, y, test_size=0.25, random_state=42)"
      ],
      "execution_count": 0,
      "outputs": []
    },
    {
      "cell_type": "code",
      "metadata": {
        "id": "0j307YsH01zx",
        "colab_type": "code",
        "colab": {
          "base_uri": "https://localhost:8080/",
          "height": 50
        },
        "outputId": "3f242eae-39ab-497f-8f73-bb0727c05032"
      },
      "source": [
        "print(X_train.shape)\n",
        "print(y_train.shape)"
      ],
      "execution_count": 23,
      "outputs": [
        {
          "output_type": "stream",
          "text": [
            "(19693, 235)\n",
            "(19693, 1)\n"
          ],
          "name": "stdout"
        }
      ]
    },
    {
      "cell_type": "code",
      "metadata": {
        "id": "8edj1J1jxpwe",
        "colab_type": "code",
        "colab": {
          "base_uri": "https://localhost:8080/",
          "height": 33
        },
        "outputId": "4b6f104f-fa63-4d14-9682-4912cb298076"
      },
      "source": [
        "from sklearn.preprocessing import MinMaxScaler\n",
        "scaler = MinMaxScaler()\n",
        "print(scaler.fit(X_train))\n",
        "X_train_scaled = scaler.transform(X_train)\n",
        "X_test_scaled = scaler.transform(X_test)"
      ],
      "execution_count": 24,
      "outputs": [
        {
          "output_type": "stream",
          "text": [
            "MinMaxScaler(copy=True, feature_range=(0, 1))\n"
          ],
          "name": "stdout"
        }
      ]
    },
    {
      "cell_type": "code",
      "metadata": {
        "id": "Lix4fv1hyUAl",
        "colab_type": "code",
        "colab": {
          "base_uri": "https://localhost:8080/",
          "height": 33
        },
        "outputId": "6d8d0041-8107-4415-94f6-c667035918e6"
      },
      "source": [
        "from __future__ import absolute_import, division, print_function, unicode_literals\n",
        "\n",
        "# TensorFlow and tf.keras\n",
        "import tensorflow as tf\n",
        "from tensorflow import keras\n",
        "\n",
        "# Helper libraries\n",
        "import numpy as np\n",
        "import matplotlib.pyplot as plt\n",
        "\n",
        "print(tf.__version__)"
      ],
      "execution_count": 15,
      "outputs": [
        {
          "output_type": "stream",
          "text": [
            "1.14.0\n"
          ],
          "name": "stdout"
        }
      ]
    },
    {
      "cell_type": "code",
      "metadata": {
        "id": "DE3PqxexGr37",
        "colab_type": "code",
        "colab": {
          "base_uri": "https://localhost:8080/",
          "height": 33
        },
        "outputId": "666d232d-3840-4b77-ec0c-0c8946d939a1"
      },
      "source": [
        "y_train = keras.utils.to_categorical(y_train)\n",
        "y_test = keras.utils.to_categorical(y_test)\n",
        "y_train.shape"
      ],
      "execution_count": 25,
      "outputs": [
        {
          "output_type": "execute_result",
          "data": {
            "text/plain": [
              "(19693, 2)"
            ]
          },
          "metadata": {
            "tags": []
          },
          "execution_count": 25
        }
      ]
    },
    {
      "cell_type": "code",
      "metadata": {
        "id": "rgVFErYB1XLd",
        "colab_type": "code",
        "colab": {}
      },
      "source": [
        "model = keras.Sequential([\n",
        "    keras.layers.Flatten(input_shape=(X_train.shape[1],)),\n",
        "    keras.layers.Dense(1000, activation=tf.nn.relu),\n",
        "    keras.layers.Dropout(rate=0.4),\n",
        "    keras.layers.Dense(256, activation=tf.nn.relu),\n",
        "    keras.layers.Dropout(rate=0.2),\n",
        "    keras.layers.Dense(128, activation=tf.nn.relu),\n",
        "    keras.layers.Dense(2, activation=tf.nn.softmax)\n",
        "])"
      ],
      "execution_count": 0,
      "outputs": []
    },
    {
      "cell_type": "markdown",
      "metadata": {
        "id": "cmuc4vFVveT7",
        "colab_type": "text"
      },
      "source": [
        "See: https://www.tensorflow.org/beta/tutorials/keras/imbalanced_data\n",
        "\n",
        "https://developers.google.com/machine-learning/crash-course/classification/roc-and-auc"
      ]
    },
    {
      "cell_type": "code",
      "metadata": {
        "id": "jmssGuCBs9oK",
        "colab_type": "code",
        "colab": {}
      },
      "source": [
        "metrics = [\n",
        "      keras.metrics.Accuracy(name='accuracy'),\n",
        "      keras.metrics.TruePositives(name='tp'),\n",
        "      keras.metrics.FalsePositives(name='fp'),\n",
        "      keras.metrics.TrueNegatives(name='tn'),\n",
        "      keras.metrics.FalseNegatives(name='fn'),\n",
        "      keras.metrics.Precision(name='precision'),\n",
        "      keras.metrics.Recall(name='recall'),\n",
        "      keras.metrics.AUC(name='auc')]"
      ],
      "execution_count": 0,
      "outputs": []
    },
    {
      "cell_type": "code",
      "metadata": {
        "id": "jMfG183mHOAI",
        "colab_type": "code",
        "colab": {}
      },
      "source": [
        "model.compile(optimizer='adam',\n",
        "              loss='binary_crossentropy',\n",
        "              metrics=metrics)"
      ],
      "execution_count": 0,
      "outputs": []
    },
    {
      "cell_type": "code",
      "metadata": {
        "id": "IdegWSPXHN9N",
        "colab_type": "code",
        "colab": {
          "base_uri": "https://localhost:8080/",
          "height": 371
        },
        "outputId": "ea24b59b-1966-46d6-9145-4168dbbd57c4"
      },
      "source": [
        "EPOCHS = 10\n",
        "BATCH_SIZE = 2048\n",
        "\n",
        "history = model.fit(\n",
        "    X_train,\n",
        "    y_train,\n",
        "    batch_size=BATCH_SIZE,\n",
        "    epochs=EPOCHS)"
      ],
      "execution_count": 34,
      "outputs": [
        {
          "output_type": "stream",
          "text": [
            "Epoch 1/10\n",
            "19693/19693 [==============================] - 1s 68us/sample - loss: 3.1130 - accuracy: 0.7959 - tp: 15702.0000 - fp: 3991.0000 - tn: 15702.0000 - fn: 3991.0000 - precision: 0.7973 - recall: 0.7973 - auc: 0.7976\n",
            "Epoch 2/10\n",
            "19693/19693 [==============================] - 1s 61us/sample - loss: 0.7684 - accuracy: 0.9500 - tp: 18709.0000 - fp: 984.0000 - tn: 18709.0000 - fn: 984.0000 - precision: 0.9500 - recall: 0.9500 - auc: 0.9500\n",
            "Epoch 3/10\n",
            "19693/19693 [==============================] - 1s 60us/sample - loss: 0.7684 - accuracy: 0.9500 - tp: 18709.0000 - fp: 984.0000 - tn: 18709.0000 - fn: 984.0000 - precision: 0.9500 - recall: 0.9500 - auc: 0.9500\n",
            "Epoch 4/10\n",
            "19693/19693 [==============================] - 1s 59us/sample - loss: 0.7684 - accuracy: 0.9500 - tp: 18709.0000 - fp: 984.0000 - tn: 18709.0000 - fn: 984.0000 - precision: 0.9500 - recall: 0.9500 - auc: 0.9500\n",
            "Epoch 5/10\n",
            "19693/19693 [==============================] - 1s 59us/sample - loss: 0.7684 - accuracy: 0.9500 - tp: 18709.0000 - fp: 984.0000 - tn: 18709.0000 - fn: 984.0000 - precision: 0.9500 - recall: 0.9500 - auc: 0.9500\n",
            "Epoch 6/10\n",
            "19693/19693 [==============================] - 1s 59us/sample - loss: 0.7684 - accuracy: 0.9500 - tp: 18709.0000 - fp: 984.0000 - tn: 18709.0000 - fn: 984.0000 - precision: 0.9500 - recall: 0.9500 - auc: 0.9500\n",
            "Epoch 7/10\n",
            "19693/19693 [==============================] - 1s 59us/sample - loss: 0.7684 - accuracy: 0.9500 - tp: 18709.0000 - fp: 984.0000 - tn: 18709.0000 - fn: 984.0000 - precision: 0.9500 - recall: 0.9500 - auc: 0.9500\n",
            "Epoch 8/10\n",
            "19693/19693 [==============================] - 1s 59us/sample - loss: 0.7684 - accuracy: 0.9500 - tp: 18709.0000 - fp: 984.0000 - tn: 18709.0000 - fn: 984.0000 - precision: 0.9500 - recall: 0.9500 - auc: 0.9500\n",
            "Epoch 9/10\n",
            "19693/19693 [==============================] - 1s 60us/sample - loss: 0.7684 - accuracy: 0.9500 - tp: 18709.0000 - fp: 984.0000 - tn: 18709.0000 - fn: 984.0000 - precision: 0.9500 - recall: 0.9500 - auc: 0.9500\n",
            "Epoch 10/10\n",
            "19693/19693 [==============================] - 1s 60us/sample - loss: 0.7684 - accuracy: 0.9500 - tp: 18709.0000 - fp: 984.0000 - tn: 18709.0000 - fn: 984.0000 - precision: 0.9500 - recall: 0.9500 - auc: 0.9500\n"
          ],
          "name": "stdout"
        }
      ]
    },
    {
      "cell_type": "code",
      "metadata": {
        "id": "TxLrVWr2HN5z",
        "colab_type": "code",
        "colab": {
          "base_uri": "https://localhost:8080/",
          "height": 70
        },
        "outputId": "025526c1-30fb-4cbc-99c7-bef1cfb53c0a"
      },
      "source": [
        "test_loss, test_acc, test_tp, test_fp, test_tn, test_fn, test_prec, test_rec, test_auc = model.evaluate(X_test, y_test)\n",
        "\n",
        "print(f'Accuracy: {test_acc} , tp: {test_tp}, tfp: {test_fp}, tn: {test_tn}, fn: {test_fn}')"
      ],
      "execution_count": 39,
      "outputs": [
        {
          "output_type": "stream",
          "text": [
            "6565/6565 [==============================] - 1s 78us/sample - loss: 0.8105 - accuracy: 0.9473 - tp: 6219.0000 - fp: 346.0000 - tn: 6219.0000 - fn: 346.0000 - precision: 0.9473 - recall: 0.9473 - auc: 0.9473\n",
            "Accuracy: 0.9472962617874146 , tp: 6219.0, tfp: 346.0, tn: 6219.0, fn: 346.0\n"
          ],
          "name": "stdout"
        }
      ]
    },
    {
      "cell_type": "code",
      "metadata": {
        "id": "rE1IikjyyTbL",
        "colab_type": "code",
        "colab": {}
      },
      "source": [
        ""
      ],
      "execution_count": 0,
      "outputs": []
    },
    {
      "cell_type": "code",
      "metadata": {
        "id": "VS6ylQl1yTsK",
        "colab_type": "code",
        "colab": {
          "base_uri": "https://localhost:8080/",
          "height": 237
        },
        "outputId": "0b45057f-18a7-4d23-ea3c-a01e58580edb"
      },
      "source": [
        "from sklearn import metrics\n",
        "predicted = model.predict(X_test)\n",
        "print(metrics.classification_report(y_test, predicted))"
      ],
      "execution_count": 40,
      "outputs": [
        {
          "output_type": "stream",
          "text": [
            "              precision    recall  f1-score   support\n",
            "\n",
            "           0       0.95      1.00      0.97      6219\n",
            "           1       0.00      0.00      0.00       346\n",
            "\n",
            "   micro avg       0.95      0.95      0.95      6565\n",
            "   macro avg       0.47      0.50      0.49      6565\n",
            "weighted avg       0.90      0.95      0.92      6565\n",
            " samples avg       0.95      0.95      0.95      6565\n",
            "\n"
          ],
          "name": "stdout"
        },
        {
          "output_type": "stream",
          "text": [
            "/usr/local/lib/python3.6/dist-packages/sklearn/metrics/classification.py:1437: UndefinedMetricWarning: Precision and F-score are ill-defined and being set to 0.0 in labels with no predicted samples.\n",
            "  'precision', 'predicted', average, warn_for)\n"
          ],
          "name": "stderr"
        }
      ]
    },
    {
      "cell_type": "code",
      "metadata": {
        "id": "QGuATZ5YyUAB",
        "colab_type": "code",
        "colab": {}
      },
      "source": [
        ""
      ],
      "execution_count": 0,
      "outputs": []
    }
  ]
}