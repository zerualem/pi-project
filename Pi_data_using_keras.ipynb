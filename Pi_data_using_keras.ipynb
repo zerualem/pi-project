{
  "nbformat": 4,
  "nbformat_minor": 0,
  "metadata": {
    "colab": {
      "name": "Pi data using keras.ipynb",
      "version": "0.3.2",
      "provenance": [],
      "collapsed_sections": [],
      "toc_visible": true,
      "include_colab_link": true
    },
    "kernelspec": {
      "name": "python3",
      "display_name": "Python 3"
    }
  },
  "cells": [
    {
      "cell_type": "markdown",
      "metadata": {
        "id": "view-in-github",
        "colab_type": "text"
      },
      "source": [
        "<a href=\"https://colab.research.google.com/github/zerualem/pi-project/blob/master/Pi_data_using_keras.ipynb\" target=\"_parent\"><img src=\"https://colab.research.google.com/assets/colab-badge.svg\" alt=\"Open In Colab\"/></a>"
      ]
    },
    {
      "cell_type": "code",
      "metadata": {
        "id": "dlKjEg6jvsup",
        "colab_type": "code",
        "colab": {}
      },
      "source": [
        ""
      ],
      "execution_count": 0,
      "outputs": []
    },
    {
      "cell_type": "code",
      "metadata": {
        "id": "AE-HOqGLv0BS",
        "colab_type": "code",
        "outputId": "6d50be0a-a3ab-4431-db03-89dc9bd61a1c",
        "colab": {
          "base_uri": "https://localhost:8080/",
          "height": 137
        }
      },
      "source": [
        "from google.colab import drive\n",
        "drive.mount('/gdrive')\n",
        "%cd /gdrive"
      ],
      "execution_count": 2,
      "outputs": [
        {
          "output_type": "stream",
          "text": [
            "Go to this URL in a browser: https://accounts.google.com/o/oauth2/auth?client_id=947318989803-6bn6qk8qdgf4n4g3pfee6491hc0brc4i.apps.googleusercontent.com&redirect_uri=urn%3Aietf%3Awg%3Aoauth%3A2.0%3Aoob&scope=email%20https%3A%2F%2Fwww.googleapis.com%2Fauth%2Fdocs.test%20https%3A%2F%2Fwww.googleapis.com%2Fauth%2Fdrive%20https%3A%2F%2Fwww.googleapis.com%2Fauth%2Fdrive.photos.readonly%20https%3A%2F%2Fwww.googleapis.com%2Fauth%2Fpeopleapi.readonly&response_type=code\n",
            "\n",
            "Enter your authorization code:\n",
            "··········\n",
            "Mounted at /gdrive\n",
            "/gdrive\n"
          ],
          "name": "stdout"
        }
      ]
    },
    {
      "cell_type": "code",
      "metadata": {
        "id": "B89FsZTqw6tW",
        "colab_type": "code",
        "outputId": "f747c426-a79a-47fc-d4c6-5deb39399cae",
        "colab": {
          "base_uri": "https://localhost:8080/",
          "height": 33
        }
      },
      "source": [
        "!dir"
      ],
      "execution_count": 0,
      "outputs": [
        {
          "output_type": "stream",
          "text": [
            "My\\ Drive\n"
          ],
          "name": "stdout"
        }
      ]
    },
    {
      "cell_type": "code",
      "metadata": {
        "id": "nIWkNLiSw6-i",
        "colab_type": "code",
        "outputId": "6041e766-1700-47df-afd0-afa10538cbc0",
        "colab": {
          "base_uri": "https://localhost:8080/",
          "height": 33
        }
      },
      "source": [
        "%cd My\\ Drive/PIPM_Data_R_code/Analysis"
      ],
      "execution_count": 3,
      "outputs": [
        {
          "output_type": "stream",
          "text": [
            "/gdrive/My Drive/PIPM_Data_R_code/Analysis\n"
          ],
          "name": "stdout"
        }
      ]
    },
    {
      "cell_type": "markdown",
      "metadata": {
        "id": "t4jHt6uHBrEh",
        "colab_type": "text"
      },
      "source": [
        "## Load the data from drive"
      ]
    },
    {
      "cell_type": "code",
      "metadata": {
        "id": "KoR7Cb2mw7Iw",
        "colab_type": "code",
        "outputId": "7ce346de-80cd-4591-c929-47418dacc2ae",
        "colab": {
          "base_uri": "https://localhost:8080/",
          "height": 33
        }
      },
      "source": [
        "import pandas as pd\n",
        "\n",
        "all_dmy = pd.read_csv('all_piData_dmy.csv')\n",
        "all_dmy.shape"
      ],
      "execution_count": 4,
      "outputs": [
        {
          "output_type": "execute_result",
          "data": {
            "text/plain": [
              "(26258, 238)"
            ]
          },
          "metadata": {
            "tags": []
          },
          "execution_count": 4
        }
      ]
    },
    {
      "cell_type": "code",
      "metadata": {
        "id": "VFjMY06PzGK7",
        "colab_type": "code",
        "outputId": "7e54a39a-a533-4db6-d39e-701adcec7cab",
        "colab": {
          "base_uri": "https://localhost:8080/",
          "height": 34
        }
      },
      "source": [
        "all_dmy.columns[all_dmy.columns.str.startswith('pressure_injury_poa')]"
      ],
      "execution_count": 0,
      "outputs": [
        {
          "output_type": "execute_result",
          "data": {
            "text/plain": [
              "Index(['pressure_injury_poa.Yes'], dtype='object')"
            ]
          },
          "metadata": {
            "tags": []
          },
          "execution_count": 4
        }
      ]
    },
    {
      "cell_type": "code",
      "metadata": {
        "id": "3R7soyIByh1A",
        "colab_type": "code",
        "outputId": "d5a5b161-cffc-489e-9a95-19dc3309844f",
        "colab": {
          "base_uri": "https://localhost:8080/",
          "height": 33
        }
      },
      "source": [
        "y = all_dmy[['pi']]\n",
        "X = all_dmy.drop(['pi', 'pi_dayfromadmit', 'pressure_injury_poa.Yes'], axis=1)\n",
        "X.shape"
      ],
      "execution_count": 6,
      "outputs": [
        {
          "output_type": "execute_result",
          "data": {
            "text/plain": [
              "(26258, 235)"
            ]
          },
          "metadata": {
            "tags": []
          },
          "execution_count": 6
        }
      ]
    },
    {
      "cell_type": "markdown",
      "metadata": {
        "id": "1hvhhLsXBx1E",
        "colab_type": "text"
      },
      "source": [
        "## Prepare the data"
      ]
    },
    {
      "cell_type": "code",
      "metadata": {
        "id": "UmeEW6aNyW0D",
        "colab_type": "code",
        "colab": {}
      },
      "source": [
        "import numpy as np\n",
        "from sklearn.model_selection import train_test_split\n",
        "\n",
        "X_train, X_test, y_train, y_test = train_test_split(X, y, test_size=0.25, random_state=42)"
      ],
      "execution_count": 0,
      "outputs": []
    },
    {
      "cell_type": "code",
      "metadata": {
        "id": "0j307YsH01zx",
        "colab_type": "code",
        "outputId": "2de8d07d-a33c-4714-99d3-0285a9e21638",
        "colab": {
          "base_uri": "https://localhost:8080/",
          "height": 51
        }
      },
      "source": [
        "print(X_train.shape)\n",
        "print(y_train.shape)"
      ],
      "execution_count": 0,
      "outputs": [
        {
          "output_type": "stream",
          "text": [
            "(19693, 235)\n",
            "(19693, 1)\n"
          ],
          "name": "stdout"
        }
      ]
    },
    {
      "cell_type": "markdown",
      "metadata": {
        "id": "cPze_N8iB-WI",
        "colab_type": "text"
      },
      "source": [
        "### Scale the data\n",
        "\n",
        "Scale the data using min-max scaler from Scikit-learn package."
      ]
    },
    {
      "cell_type": "code",
      "metadata": {
        "id": "8edj1J1jxpwe",
        "colab_type": "code",
        "outputId": "baaab81f-b40c-485f-ebac-db1b798c0194",
        "colab": {
          "base_uri": "https://localhost:8080/",
          "height": 33
        }
      },
      "source": [
        "from sklearn.preprocessing import MinMaxScaler\n",
        "scaler = MinMaxScaler()\n",
        "print(scaler.fit(X_train))\n",
        "X_train_scaled = scaler.transform(X_train)\n",
        "X_test_scaled = scaler.transform(X_test)"
      ],
      "execution_count": 8,
      "outputs": [
        {
          "output_type": "stream",
          "text": [
            "MinMaxScaler(copy=True, feature_range=(0, 1))\n"
          ],
          "name": "stdout"
        }
      ]
    },
    {
      "cell_type": "markdown",
      "metadata": {
        "id": "UTcB4P0UCR7P",
        "colab_type": "text"
      },
      "source": [
        "## Build neural network using keras from Tensorflow"
      ]
    },
    {
      "cell_type": "code",
      "metadata": {
        "id": "Lix4fv1hyUAl",
        "colab_type": "code",
        "outputId": "2c428921-9e0f-4f74-87b1-235197960d69",
        "colab": {
          "base_uri": "https://localhost:8080/",
          "height": 33
        }
      },
      "source": [
        "from __future__ import absolute_import, division, print_function, unicode_literals\n",
        "\n",
        "# TensorFlow and tf.keras\n",
        "import tensorflow as tf\n",
        "from tensorflow import keras\n",
        "\n",
        "# Helper libraries\n",
        "import numpy as np\n",
        "import matplotlib.pyplot as plt\n",
        "\n",
        "print(tf.__version__)"
      ],
      "execution_count": 9,
      "outputs": [
        {
          "output_type": "stream",
          "text": [
            "1.14.0\n"
          ],
          "name": "stdout"
        }
      ]
    },
    {
      "cell_type": "code",
      "metadata": {
        "id": "DE3PqxexGr37",
        "colab_type": "code",
        "outputId": "666d232d-3840-4b77-ec0c-0c8946d939a1",
        "colab": {
          "base_uri": "https://localhost:8080/",
          "height": 33
        }
      },
      "source": [
        "#y_train = keras.utils.to_categorical(y_train)\n",
        "#y_test = keras.utils.to_categorical(y_test)\n",
        "#y_train.shape"
      ],
      "execution_count": 0,
      "outputs": [
        {
          "output_type": "execute_result",
          "data": {
            "text/plain": [
              "(19693, 2)"
            ]
          },
          "metadata": {
            "tags": []
          },
          "execution_count": 25
        }
      ]
    },
    {
      "cell_type": "code",
      "metadata": {
        "id": "rgVFErYB1XLd",
        "colab_type": "code",
        "colab": {}
      },
      "source": [
        "model = keras.Sequential([\n",
        "    keras.layers.Flatten(input_shape=(X_train.shape[1],)),\n",
        "    keras.layers.Dense(256, activation=tf.nn.relu),\n",
        "    #keras.layers.Dropout(rate=0.3),\n",
        "    keras.layers.Dense(256, activation=tf.nn.relu),\n",
        "    #keras.layers.Dropout(rate=0.2),\n",
        "    keras.layers.Dense(128, activation=tf.nn.relu),\n",
        "    keras.layers.Dense(1, activation=tf.nn.sigmoid)\n",
        "])"
      ],
      "execution_count": 0,
      "outputs": []
    },
    {
      "cell_type": "markdown",
      "metadata": {
        "id": "cmuc4vFVveT7",
        "colab_type": "text"
      },
      "source": [
        "Some references\n",
        "\n",
        "\n",
        "*   https://www.tensorflow.org/beta/tutorials/keras/imbalanced_data\n",
        "\n",
        "\n",
        "*   https://developers.google.com/machine-learning/crash-course/classification/roc-and-auc \n",
        "\n",
        "\n"
      ]
    },
    {
      "cell_type": "code",
      "metadata": {
        "id": "jmssGuCBs9oK",
        "colab_type": "code",
        "colab": {}
      },
      "source": [
        "metrics = [\n",
        "      keras.metrics.Accuracy(name='accuracy'),\n",
        "      keras.metrics.TruePositives(name='tp'),\n",
        "      keras.metrics.FalsePositives(name='fp'),\n",
        "      keras.metrics.TrueNegatives(name='tn'),\n",
        "      keras.metrics.FalseNegatives(name='fn'),\n",
        "      keras.metrics.Precision(name='precision'),\n",
        "      keras.metrics.Recall(name='recall'),\n",
        "      keras.metrics.AUC(name='auc')]"
      ],
      "execution_count": 0,
      "outputs": []
    },
    {
      "cell_type": "code",
      "metadata": {
        "id": "jMfG183mHOAI",
        "colab_type": "code",
        "colab": {}
      },
      "source": [
        "adam = keras.optimizers.Adam(learning_rate=0.00001)\n",
        "model.compile(optimizer=adam,\n",
        "              loss='binary_crossentropy',\n",
        "              metrics=metrics)"
      ],
      "execution_count": 0,
      "outputs": []
    },
    {
      "cell_type": "code",
      "metadata": {
        "id": "n-ZqRqdoFr1P",
        "colab_type": "code",
        "colab": {
          "base_uri": "https://localhost:8080/",
          "height": 318
        },
        "outputId": "551d58d1-f646-439b-c54b-3ebac1d3f201"
      },
      "source": [
        "model.summary()"
      ],
      "execution_count": 70,
      "outputs": [
        {
          "output_type": "stream",
          "text": [
            "Model: \"sequential_7\"\n",
            "_________________________________________________________________\n",
            "Layer (type)                 Output Shape              Param #   \n",
            "=================================================================\n",
            "flatten_7 (Flatten)          (None, 235)               0         \n",
            "_________________________________________________________________\n",
            "dense_28 (Dense)             (None, 256)               60416     \n",
            "_________________________________________________________________\n",
            "dense_29 (Dense)             (None, 256)               65792     \n",
            "_________________________________________________________________\n",
            "dense_30 (Dense)             (None, 128)               32896     \n",
            "_________________________________________________________________\n",
            "dense_31 (Dense)             (None, 1)                 129       \n",
            "=================================================================\n",
            "Total params: 159,233\n",
            "Trainable params: 159,233\n",
            "Non-trainable params: 0\n",
            "_________________________________________________________________\n"
          ],
          "name": "stdout"
        }
      ]
    },
    {
      "cell_type": "code",
      "metadata": {
        "id": "IdegWSPXHN9N",
        "colab_type": "code",
        "outputId": "7ec35d21-b74a-4bae-af94-600c64c75ea2",
        "colab": {
          "base_uri": "https://localhost:8080/",
          "height": 1000
        }
      },
      "source": [
        "EPOCHS = 30\n",
        "BATCH_SIZE = 1024\n",
        "\n",
        "history = model.fit( \n",
        "    X_train,\n",
        "    y_train,\n",
        "    batch_size=BATCH_SIZE,\n",
        "    epochs=EPOCHS)"
      ],
      "execution_count": 81,
      "outputs": [
        {
          "output_type": "stream",
          "text": [
            "Epoch 1/30\n",
            "19693/19693 [==============================] - 1s 29us/sample - loss: 0.8524 - accuracy: 0.7626 - tp: 411.0000 - fp: 479.0000 - tn: 18230.0000 - fn: 573.0000 - precision: 0.4618 - recall: 0.4177 - auc: 0.7458\n",
            "Epoch 2/30\n",
            "19693/19693 [==============================] - 1s 29us/sample - loss: 0.8562 - accuracy: 0.7712 - tp: 411.0000 - fp: 451.0000 - tn: 18258.0000 - fn: 573.0000 - precision: 0.4768 - recall: 0.4177 - auc: 0.7441\n",
            "Epoch 3/30\n",
            "19693/19693 [==============================] - 1s 29us/sample - loss: 0.8185 - accuracy: 0.7398 - tp: 442.0000 - fp: 507.0000 - tn: 18202.0000 - fn: 542.0000 - precision: 0.4658 - recall: 0.4492 - auc: 0.7636\n",
            "Epoch 4/30\n",
            "19693/19693 [==============================] - 1s 29us/sample - loss: 0.8152 - accuracy: 0.7337 - tp: 421.0000 - fp: 485.0000 - tn: 18224.0000 - fn: 563.0000 - precision: 0.4647 - recall: 0.4278 - auc: 0.7538\n",
            "Epoch 5/30\n",
            "19693/19693 [==============================] - 1s 29us/sample - loss: 0.7832 - accuracy: 0.7347 - tp: 429.0000 - fp: 476.0000 - tn: 18233.0000 - fn: 555.0000 - precision: 0.4740 - recall: 0.4360 - auc: 0.7589\n",
            "Epoch 6/30\n",
            "19693/19693 [==============================] - 1s 29us/sample - loss: 0.8108 - accuracy: 0.7559 - tp: 417.0000 - fp: 465.0000 - tn: 18244.0000 - fn: 567.0000 - precision: 0.4728 - recall: 0.4238 - auc: 0.7530\n",
            "Epoch 7/30\n",
            "19693/19693 [==============================] - 1s 29us/sample - loss: 0.7749 - accuracy: 0.7062 - tp: 442.0000 - fp: 492.0000 - tn: 18217.0000 - fn: 542.0000 - precision: 0.4732 - recall: 0.4492 - auc: 0.7628\n",
            "Epoch 8/30\n",
            "19693/19693 [==============================] - 1s 29us/sample - loss: 0.7507 - accuracy: 0.7316 - tp: 439.0000 - fp: 475.0000 - tn: 18234.0000 - fn: 545.0000 - precision: 0.4803 - recall: 0.4461 - auc: 0.7674\n",
            "Epoch 9/30\n",
            "19693/19693 [==============================] - 1s 29us/sample - loss: 0.8260 - accuracy: 0.7140 - tp: 419.0000 - fp: 527.0000 - tn: 18182.0000 - fn: 565.0000 - precision: 0.4429 - recall: 0.4258 - auc: 0.7580\n",
            "Epoch 10/30\n",
            "19693/19693 [==============================] - 1s 29us/sample - loss: 0.7916 - accuracy: 0.7222 - tp: 405.0000 - fp: 458.0000 - tn: 18251.0000 - fn: 579.0000 - precision: 0.4693 - recall: 0.4116 - auc: 0.7506\n",
            "Epoch 11/30\n",
            "19693/19693 [==============================] - 1s 29us/sample - loss: 0.7849 - accuracy: 0.7169 - tp: 409.0000 - fp: 471.0000 - tn: 18238.0000 - fn: 575.0000 - precision: 0.4648 - recall: 0.4157 - auc: 0.7503\n",
            "Epoch 12/30\n",
            "19693/19693 [==============================] - 1s 30us/sample - loss: 0.7315 - accuracy: 0.6883 - tp: 440.0000 - fp: 497.0000 - tn: 18212.0000 - fn: 544.0000 - precision: 0.4696 - recall: 0.4472 - auc: 0.7718\n",
            "Epoch 13/30\n",
            "19693/19693 [==============================] - 1s 29us/sample - loss: 0.7143 - accuracy: 0.6902 - tp: 444.0000 - fp: 475.0000 - tn: 18234.0000 - fn: 540.0000 - precision: 0.4831 - recall: 0.4512 - auc: 0.7719\n",
            "Epoch 14/30\n",
            "19693/19693 [==============================] - 1s 29us/sample - loss: 0.7052 - accuracy: 0.6816 - tp: 441.0000 - fp: 479.0000 - tn: 18230.0000 - fn: 543.0000 - precision: 0.4793 - recall: 0.4482 - auc: 0.7763\n",
            "Epoch 15/30\n",
            "19693/19693 [==============================] - 1s 29us/sample - loss: 0.7144 - accuracy: 0.6767 - tp: 428.0000 - fp: 475.0000 - tn: 18234.0000 - fn: 556.0000 - precision: 0.4740 - recall: 0.4350 - auc: 0.7701\n",
            "Epoch 16/30\n",
            "19693/19693 [==============================] - 1s 29us/sample - loss: 0.6852 - accuracy: 0.6732 - tp: 436.0000 - fp: 453.0000 - tn: 18256.0000 - fn: 548.0000 - precision: 0.4904 - recall: 0.4431 - auc: 0.7797\n",
            "Epoch 17/30\n",
            "19693/19693 [==============================] - 1s 29us/sample - loss: 0.6937 - accuracy: 0.6724 - tp: 430.0000 - fp: 454.0000 - tn: 18255.0000 - fn: 554.0000 - precision: 0.4864 - recall: 0.4370 - auc: 0.7724\n",
            "Epoch 18/30\n",
            "19693/19693 [==============================] - 1s 30us/sample - loss: 0.6800 - accuracy: 0.6539 - tp: 435.0000 - fp: 463.0000 - tn: 18246.0000 - fn: 549.0000 - precision: 0.4844 - recall: 0.4421 - auc: 0.7749\n",
            "Epoch 19/30\n",
            "19693/19693 [==============================] - 1s 29us/sample - loss: 0.6804 - accuracy: 0.6692 - tp: 426.0000 - fp: 444.0000 - tn: 18265.0000 - fn: 558.0000 - precision: 0.4897 - recall: 0.4329 - auc: 0.7700\n",
            "Epoch 20/30\n",
            "19693/19693 [==============================] - 1s 29us/sample - loss: 0.7614 - accuracy: 0.6488 - tp: 406.0000 - fp: 514.0000 - tn: 18195.0000 - fn: 578.0000 - precision: 0.4413 - recall: 0.4126 - auc: 0.7547\n",
            "Epoch 21/30\n",
            "19693/19693 [==============================] - 1s 29us/sample - loss: 0.6969 - accuracy: 0.6777 - tp: 414.0000 - fp: 468.0000 - tn: 18241.0000 - fn: 570.0000 - precision: 0.4694 - recall: 0.4207 - auc: 0.7604\n",
            "Epoch 22/30\n",
            "19693/19693 [==============================] - 1s 29us/sample - loss: 0.6486 - accuracy: 0.6202 - tp: 440.0000 - fp: 478.0000 - tn: 18231.0000 - fn: 544.0000 - precision: 0.4793 - recall: 0.4472 - auc: 0.7835\n",
            "Epoch 23/30\n",
            "19693/19693 [==============================] - 1s 29us/sample - loss: 0.6559 - accuracy: 0.6437 - tp: 416.0000 - fp: 457.0000 - tn: 18252.0000 - fn: 568.0000 - precision: 0.4765 - recall: 0.4228 - auc: 0.7703\n",
            "Epoch 24/30\n",
            "19693/19693 [==============================] - 1s 29us/sample - loss: 0.6371 - accuracy: 0.6042 - tp: 448.0000 - fp: 496.0000 - tn: 18213.0000 - fn: 536.0000 - precision: 0.4746 - recall: 0.4553 - auc: 0.7855\n",
            "Epoch 25/30\n",
            "19693/19693 [==============================] - 1s 29us/sample - loss: 0.6309 - accuracy: 0.6187 - tp: 431.0000 - fp: 448.0000 - tn: 18261.0000 - fn: 553.0000 - precision: 0.4903 - recall: 0.4380 - auc: 0.7784\n",
            "Epoch 26/30\n",
            "19693/19693 [==============================] - 1s 29us/sample - loss: 0.6345 - accuracy: 0.5940 - tp: 443.0000 - fp: 488.0000 - tn: 18221.0000 - fn: 541.0000 - precision: 0.4758 - recall: 0.4502 - auc: 0.7779\n",
            "Epoch 27/30\n",
            "19693/19693 [==============================] - 1s 29us/sample - loss: 0.6249 - accuracy: 0.6009 - tp: 433.0000 - fp: 453.0000 - tn: 18256.0000 - fn: 551.0000 - precision: 0.4887 - recall: 0.4400 - auc: 0.7714\n",
            "Epoch 28/30\n",
            "19693/19693 [==============================] - 1s 28us/sample - loss: 0.6132 - accuracy: 0.5793 - tp: 440.0000 - fp: 468.0000 - tn: 18241.0000 - fn: 544.0000 - precision: 0.4846 - recall: 0.4472 - auc: 0.7796\n",
            "Epoch 29/30\n",
            "19693/19693 [==============================] - 1s 30us/sample - loss: 0.6273 - accuracy: 0.6171 - tp: 423.0000 - fp: 437.0000 - tn: 18272.0000 - fn: 561.0000 - precision: 0.4919 - recall: 0.4299 - auc: 0.7665\n",
            "Epoch 30/30\n",
            "19693/19693 [==============================] - 1s 30us/sample - loss: 0.5949 - accuracy: 0.5591 - tp: 443.0000 - fp: 471.0000 - tn: 18238.0000 - fn: 541.0000 - precision: 0.4847 - recall: 0.4502 - auc: 0.7820\n"
          ],
          "name": "stdout"
        }
      ]
    },
    {
      "cell_type": "markdown",
      "metadata": {
        "id": "xB0t1xZiGEQI",
        "colab_type": "text"
      },
      "source": [
        "### Evaluate the model on the test set"
      ]
    },
    {
      "cell_type": "code",
      "metadata": {
        "id": "TxLrVWr2HN5z",
        "colab_type": "code",
        "outputId": "a206a751-2c3b-4d9e-fc72-a5c66f5ee1c9",
        "colab": {
          "base_uri": "https://localhost:8080/",
          "height": 204
        }
      },
      "source": [
        "results = model.evaluate(X_test, y_test)\n",
        "\n",
        "for name, value in zip(model.metrics_names, results):\n",
        "  print(name, ': ', value)"
      ],
      "execution_count": 82,
      "outputs": [
        {
          "output_type": "stream",
          "text": [
            "6565/6565 [==============================] - 0s 54us/sample - loss: 0.6894 - accuracy: 0.5593 - tp: 135.0000 - fp: 177.0000 - tn: 6042.0000 - fn: 211.0000 - precision: 0.4327 - recall: 0.3902 - auc: 0.7504\n",
            "loss :  0.6893596469169461\n",
            "accuracy :  0.5593298\n",
            "tp :  135.0\n",
            "fp :  177.0\n",
            "tn :  6042.0\n",
            "fn :  211.0\n",
            "precision :  0.43269232\n",
            "recall :  0.3901734\n",
            "auc :  0.7503911\n"
          ],
          "name": "stdout"
        }
      ]
    },
    {
      "cell_type": "code",
      "metadata": {
        "id": "VS6ylQl1yTsK",
        "colab_type": "code",
        "outputId": "87b58d3d-95f2-4fed-feed-f3a1d28559d0",
        "colab": {
          "base_uri": "https://localhost:8080/",
          "height": 167
        }
      },
      "source": [
        "from sklearn import metrics\n",
        "predicted = model.predict(X_test)\n",
        "print(metrics.classification_report(y_test.values, (predicted.astype(np.int32))))"
      ],
      "execution_count": 83,
      "outputs": [
        {
          "output_type": "stream",
          "text": [
            "              precision    recall  f1-score   support\n",
            "\n",
            "           0       0.95      0.99      0.97      6219\n",
            "           1       0.60      0.15      0.24       346\n",
            "\n",
            "    accuracy                           0.95      6565\n",
            "   macro avg       0.78      0.57      0.61      6565\n",
            "weighted avg       0.94      0.95      0.94      6565\n",
            "\n"
          ],
          "name": "stdout"
        }
      ]
    },
    {
      "cell_type": "markdown",
      "metadata": {
        "id": "aLCtIzVeP6iN",
        "colab_type": "text"
      },
      "source": [
        "### Using class weights to tackle data inbalance"
      ]
    },
    {
      "cell_type": "code",
      "metadata": {
        "id": "rE1IikjyyTbL",
        "colab_type": "code",
        "colab": {}
      },
      "source": [
        "neg, pos = np.bincount(y_train.values.flatten())\n",
        "weight_for_0 =  1 #1 / neg\n",
        "weight_for_1 = 1  #1 / pos\n",
        "\n",
        "class_weight = {0: weight_for_0, 1: weight_for_1}"
      ],
      "execution_count": 0,
      "outputs": []
    },
    {
      "cell_type": "code",
      "metadata": {
        "id": "AvLQXrbW7kw0",
        "colab_type": "code",
        "outputId": "8a419b25-9ba8-442c-b484-30ce97bb5625",
        "colab": {
          "base_uri": "https://localhost:8080/",
          "height": 34
        }
      },
      "source": [
        "class_weight"
      ],
      "execution_count": 0,
      "outputs": [
        {
          "output_type": "execute_result",
          "data": {
            "text/plain": [
              "{0: 5.345021112833396e-05, 1: 0.0010162601626016261}"
            ]
          },
          "metadata": {
            "tags": []
          },
          "execution_count": 21
        }
      ]
    },
    {
      "cell_type": "code",
      "metadata": {
        "id": "QGuATZ5YyUAB",
        "colab_type": "code",
        "outputId": "bb896990-55aa-4dcc-8dfc-d2b46c4201b2",
        "colab": {
          "base_uri": "https://localhost:8080/",
          "height": 706
        }
      },
      "source": [
        "EPOCHS = 20\n",
        "BATCH_SIZE = 2048\n",
        "\n",
        "weighted_model = model\n",
        "\n",
        "weighted_history = weighted_model.fit(\n",
        "    X_train,\n",
        "    y_train,\n",
        "    batch_size=BATCH_SIZE,\n",
        "    epochs=EPOCHS,\n",
        "    class_weight=class_weight)"
      ],
      "execution_count": 90,
      "outputs": [
        {
          "output_type": "stream",
          "text": [
            "Epoch 1/20\n",
            "19693/19693 [==============================] - 1s 27us/sample - loss: 0.5455 - accuracy: 0.4514 - tp: 450.0000 - fp: 532.0000 - tn: 18177.0000 - fn: 534.0000 - precision: 0.4582 - recall: 0.4573 - auc: 0.7918\n",
            "Epoch 2/20\n",
            "19693/19693 [==============================] - 1s 27us/sample - loss: 0.5374 - accuracy: 0.4796 - tp: 426.0000 - fp: 471.0000 - tn: 18238.0000 - fn: 558.0000 - precision: 0.4749 - recall: 0.4329 - auc: 0.7916\n",
            "Epoch 3/20\n",
            "19693/19693 [==============================] - 1s 27us/sample - loss: 0.5269 - accuracy: 0.4536 - tp: 444.0000 - fp: 472.0000 - tn: 18237.0000 - fn: 540.0000 - precision: 0.4847 - recall: 0.4512 - auc: 0.7928\n",
            "Epoch 4/20\n",
            "19693/19693 [==============================] - 1s 27us/sample - loss: 0.5262 - accuracy: 0.4214 - tp: 444.0000 - fp: 515.0000 - tn: 18194.0000 - fn: 540.0000 - precision: 0.4630 - recall: 0.4512 - auc: 0.8030\n",
            "Epoch 5/20\n",
            "19693/19693 [==============================] - 1s 26us/sample - loss: 0.5216 - accuracy: 0.4374 - tp: 438.0000 - fp: 459.0000 - tn: 18250.0000 - fn: 546.0000 - precision: 0.4883 - recall: 0.4451 - auc: 0.7979\n",
            "Epoch 6/20\n",
            "19693/19693 [==============================] - 1s 27us/sample - loss: 0.5154 - accuracy: 0.4388 - tp: 432.0000 - fp: 462.0000 - tn: 18247.0000 - fn: 552.0000 - precision: 0.4832 - recall: 0.4390 - auc: 0.7938\n",
            "Epoch 7/20\n",
            "19693/19693 [==============================] - 1s 26us/sample - loss: 0.5106 - accuracy: 0.4191 - tp: 437.0000 - fp: 446.0000 - tn: 18263.0000 - fn: 547.0000 - precision: 0.4949 - recall: 0.4441 - auc: 0.7948\n",
            "Epoch 8/20\n",
            "19693/19693 [==============================] - 1s 26us/sample - loss: 0.5104 - accuracy: 0.3990 - tp: 456.0000 - fp: 472.0000 - tn: 18237.0000 - fn: 528.0000 - precision: 0.4914 - recall: 0.4634 - auc: 0.7949\n",
            "Epoch 9/20\n",
            "19693/19693 [==============================] - 1s 26us/sample - loss: 0.5261 - accuracy: 0.4403 - tp: 421.0000 - fp: 471.0000 - tn: 18238.0000 - fn: 563.0000 - precision: 0.4720 - recall: 0.4278 - auc: 0.7826\n",
            "Epoch 10/20\n",
            "19693/19693 [==============================] - 1s 26us/sample - loss: 0.5123 - accuracy: 0.4390 - tp: 430.0000 - fp: 455.0000 - tn: 18254.0000 - fn: 554.0000 - precision: 0.4859 - recall: 0.4370 - auc: 0.7862\n",
            "Epoch 11/20\n",
            "19693/19693 [==============================] - 1s 26us/sample - loss: 0.4980 - accuracy: 0.3737 - tp: 450.0000 - fp: 480.0000 - tn: 18229.0000 - fn: 534.0000 - precision: 0.4839 - recall: 0.4573 - auc: 0.8010\n",
            "Epoch 12/20\n",
            "19693/19693 [==============================] - 1s 26us/sample - loss: 0.4914 - accuracy: 0.3590 - tp: 436.0000 - fp: 462.0000 - tn: 18247.0000 - fn: 548.0000 - precision: 0.4855 - recall: 0.4431 - auc: 0.8045\n",
            "Epoch 13/20\n",
            "19693/19693 [==============================] - 1s 26us/sample - loss: 0.4940 - accuracy: 0.4081 - tp: 428.0000 - fp: 423.0000 - tn: 18286.0000 - fn: 556.0000 - precision: 0.5029 - recall: 0.4350 - auc: 0.7901\n",
            "Epoch 14/20\n",
            "19693/19693 [==============================] - 1s 26us/sample - loss: 0.4937 - accuracy: 0.3672 - tp: 438.0000 - fp: 470.0000 - tn: 18239.0000 - fn: 546.0000 - precision: 0.4824 - recall: 0.4451 - auc: 0.7972\n",
            "Epoch 15/20\n",
            "19693/19693 [==============================] - 1s 26us/sample - loss: 0.4891 - accuracy: 0.3433 - tp: 437.0000 - fp: 486.0000 - tn: 18223.0000 - fn: 547.0000 - precision: 0.4735 - recall: 0.4441 - auc: 0.7995\n",
            "Epoch 16/20\n",
            "19693/19693 [==============================] - 1s 26us/sample - loss: 0.4870 - accuracy: 0.3643 - tp: 428.0000 - fp: 452.0000 - tn: 18257.0000 - fn: 556.0000 - precision: 0.4864 - recall: 0.4350 - auc: 0.7902\n",
            "Epoch 17/20\n",
            "19693/19693 [==============================] - 1s 26us/sample - loss: 0.4759 - accuracy: 0.3526 - tp: 439.0000 - fp: 426.0000 - tn: 18283.0000 - fn: 545.0000 - precision: 0.5075 - recall: 0.4461 - auc: 0.7986\n",
            "Epoch 18/20\n",
            "19693/19693 [==============================] - 1s 26us/sample - loss: 0.4749 - accuracy: 0.3256 - tp: 446.0000 - fp: 463.0000 - tn: 18246.0000 - fn: 538.0000 - precision: 0.4906 - recall: 0.4533 - auc: 0.7992\n",
            "Epoch 19/20\n",
            "19693/19693 [==============================] - 1s 26us/sample - loss: 0.4811 - accuracy: 0.3653 - tp: 414.0000 - fp: 449.0000 - tn: 18260.0000 - fn: 570.0000 - precision: 0.4797 - recall: 0.4207 - auc: 0.7913\n",
            "Epoch 20/20\n",
            "19693/19693 [==============================] - 1s 27us/sample - loss: 0.4884 - accuracy: 0.3957 - tp: 413.0000 - fp: 423.0000 - tn: 18286.0000 - fn: 571.0000 - precision: 0.4940 - recall: 0.4197 - auc: 0.7827\n"
          ],
          "name": "stdout"
        }
      ]
    },
    {
      "cell_type": "code",
      "metadata": {
        "id": "Wtlx7K9G1y6U",
        "colab_type": "code",
        "outputId": "bbbfaf3f-6b80-4b89-c350-ba2126b3e712",
        "colab": {
          "base_uri": "https://localhost:8080/",
          "height": 204
        }
      },
      "source": [
        "weighted_results = weighted_model.evaluate(X_test, y_test)\n",
        "for name, value in zip(weighted_model.metrics_names, weighted_results):\n",
        "  print(name, ': ', value)"
      ],
      "execution_count": 91,
      "outputs": [
        {
          "output_type": "stream",
          "text": [
            "6565/6565 [==============================] - 1s 90us/sample - loss: 0.5957 - accuracy: 0.1956 - tp: 139.0000 - fp: 239.0000 - tn: 5980.0000 - fn: 207.0000 - precision: 0.3677 - recall: 0.4017 - auc: 0.7784\n",
            "loss :  0.5957498071838334\n",
            "accuracy :  0.19558263\n",
            "tp :  139.0\n",
            "fp :  239.0\n",
            "tn :  5980.0\n",
            "fn :  207.0\n",
            "precision :  0.36772487\n",
            "recall :  0.4017341\n",
            "auc :  0.7783975\n"
          ],
          "name": "stdout"
        }
      ]
    },
    {
      "cell_type": "code",
      "metadata": {
        "id": "wc6pXzSo9pyN",
        "colab_type": "code",
        "colab": {
          "base_uri": "https://localhost:8080/",
          "height": 167
        },
        "outputId": "99857224-fa00-4689-a9f4-e374def25754"
      },
      "source": [
        "predicted = weighted_model.predict(X_test)\n",
        "print(metrics.classification_report(y_test.values, (predicted.astype(np.int32))))"
      ],
      "execution_count": 105,
      "outputs": [
        {
          "output_type": "stream",
          "text": [
            "              precision    recall  f1-score   support\n",
            "\n",
            "           0       0.95      1.00      0.97      6219\n",
            "           1       0.62      0.09      0.16       346\n",
            "\n",
            "    accuracy                           0.95      6565\n",
            "   macro avg       0.78      0.54      0.57      6565\n",
            "weighted avg       0.93      0.95      0.93      6565\n",
            "\n"
          ],
          "name": "stdout"
        }
      ]
    },
    {
      "cell_type": "markdown",
      "metadata": {
        "id": "Em4Zg8LF9wjO",
        "colab_type": "text"
      },
      "source": [
        "### Oversampling the minority class"
      ]
    },
    {
      "cell_type": "code",
      "metadata": {
        "id": "3b8mBVSC24mp",
        "colab_type": "code",
        "outputId": "b317c362-5c56-485b-9329-a76d69ac472d",
        "colab": {
          "base_uri": "https://localhost:8080/",
          "height": 33
        }
      },
      "source": [
        "# with default args this will oversample the minority class to have an equal\n",
        "# number of observations\n",
        "from imblearn.over_sampling import SMOTE\n",
        "smote = SMOTE( sampling_strategy=0.6)\n",
        "res_features, res_labels = smote.fit_sample(X_train, y_train.values.reshape(-1))\n",
        "\n",
        "res_neg, res_pos = np.bincount(res_labels)\n",
        "res_total = res_neg + res_pos\n",
        "print('{} positive samples out of {} training samples ({:.2f}% of total)'.format(\n",
        "    res_pos, res_total, 100 * res_pos / res_total))"
      ],
      "execution_count": 103,
      "outputs": [
        {
          "output_type": "stream",
          "text": [
            "11225 positive samples out of 29934 training samples (37.50% of total)\n"
          ],
          "name": "stdout"
        }
      ]
    },
    {
      "cell_type": "code",
      "metadata": {
        "id": "MN6QEwi-BLWm",
        "colab_type": "code",
        "outputId": "6e26330a-c112-4122-c938-d8483d273e64",
        "colab": {
          "base_uri": "https://localhost:8080/",
          "height": 706
        }
      },
      "source": [
        "resampled_model = model\n",
        "res_labels = np.reshape(res_labels,(-1,1))\n",
        "resampled_history = resampled_model.fit(\n",
        "    res_features, res_labels,\n",
        "    batch_size=BATCH_SIZE,\n",
        "    epochs=EPOCHS,\n",
        "    class_weight=class_weight)"
      ],
      "execution_count": 104,
      "outputs": [
        {
          "output_type": "stream",
          "text": [
            "Epoch 1/20\n",
            "29934/29934 [==============================] - 1s 36us/sample - loss: 0.5756 - accuracy: 0.0614 - tp: 8743.0000 - fp: 2008.0000 - tn: 16701.0000 - fn: 2482.0000 - precision: 0.8132 - recall: 0.7789 - auc: 0.9101\n",
            "Epoch 2/20\n",
            "29934/29934 [==============================] - 1s 24us/sample - loss: 0.5645 - accuracy: 0.0617 - tp: 8825.0000 - fp: 2069.0000 - tn: 16640.0000 - fn: 2400.0000 - precision: 0.8101 - recall: 0.7862 - auc: 0.9120\n",
            "Epoch 3/20\n",
            "29934/29934 [==============================] - 1s 24us/sample - loss: 0.5902 - accuracy: 0.0609 - tp: 8731.0000 - fp: 2148.0000 - tn: 16561.0000 - fn: 2494.0000 - precision: 0.8026 - recall: 0.7778 - auc: 0.9062\n",
            "Epoch 4/20\n",
            "29934/29934 [==============================] - 1s 24us/sample - loss: 0.6728 - accuracy: 0.0592 - tp: 8426.0000 - fp: 2286.0000 - tn: 16423.0000 - fn: 2799.0000 - precision: 0.7866 - recall: 0.7506 - auc: 0.8888\n",
            "Epoch 5/20\n",
            "29934/29934 [==============================] - 1s 24us/sample - loss: 0.5726 - accuracy: 0.0612 - tp: 8859.0000 - fp: 2163.0000 - tn: 16546.0000 - fn: 2366.0000 - precision: 0.8038 - recall: 0.7892 - auc: 0.9100\n",
            "Epoch 6/20\n",
            "29934/29934 [==============================] - 1s 25us/sample - loss: 0.5613 - accuracy: 0.0606 - tp: 8856.0000 - fp: 2130.0000 - tn: 16579.0000 - fn: 2369.0000 - precision: 0.8061 - recall: 0.7890 - auc: 0.9121\n",
            "Epoch 7/20\n",
            "29934/29934 [==============================] - 1s 24us/sample - loss: 0.5563 - accuracy: 0.0603 - tp: 8869.0000 - fp: 2085.0000 - tn: 16624.0000 - fn: 2356.0000 - precision: 0.8097 - recall: 0.7901 - auc: 0.9130\n",
            "Epoch 8/20\n",
            "29934/29934 [==============================] - 1s 24us/sample - loss: 0.5904 - accuracy: 0.0593 - tp: 8741.0000 - fp: 2213.0000 - tn: 16496.0000 - fn: 2484.0000 - precision: 0.7980 - recall: 0.7787 - auc: 0.9043\n",
            "Epoch 9/20\n",
            "29934/29934 [==============================] - 1s 24us/sample - loss: 0.5546 - accuracy: 0.0592 - tp: 8810.0000 - fp: 2082.0000 - tn: 16627.0000 - fn: 2415.0000 - precision: 0.8089 - recall: 0.7849 - auc: 0.9127\n",
            "Epoch 10/20\n",
            "29934/29934 [==============================] - 1s 24us/sample - loss: 0.5486 - accuracy: 0.0592 - tp: 8824.0000 - fp: 2114.0000 - tn: 16595.0000 - fn: 2401.0000 - precision: 0.8067 - recall: 0.7861 - auc: 0.9139\n",
            "Epoch 11/20\n",
            "29934/29934 [==============================] - 1s 24us/sample - loss: 0.6142 - accuracy: 0.0568 - tp: 8591.0000 - fp: 2221.0000 - tn: 16488.0000 - fn: 2634.0000 - precision: 0.7946 - recall: 0.7653 - auc: 0.8980\n",
            "Epoch 12/20\n",
            "29934/29934 [==============================] - 1s 24us/sample - loss: 0.5594 - accuracy: 0.0580 - tp: 8771.0000 - fp: 2080.0000 - tn: 16629.0000 - fn: 2454.0000 - precision: 0.8083 - recall: 0.7814 - auc: 0.9100\n",
            "Epoch 13/20\n",
            "29934/29934 [==============================] - 1s 24us/sample - loss: 0.5623 - accuracy: 0.0573 - tp: 8763.0000 - fp: 2172.0000 - tn: 16537.0000 - fn: 2462.0000 - precision: 0.8014 - recall: 0.7807 - auc: 0.9092\n",
            "Epoch 14/20\n",
            "29934/29934 [==============================] - 1s 24us/sample - loss: 0.5403 - accuracy: 0.0577 - tp: 8841.0000 - fp: 2079.0000 - tn: 16630.0000 - fn: 2384.0000 - precision: 0.8096 - recall: 0.7876 - auc: 0.9140\n",
            "Epoch 15/20\n",
            "29934/29934 [==============================] - 1s 24us/sample - loss: 0.5403 - accuracy: 0.0577 - tp: 8885.0000 - fp: 2159.0000 - tn: 16550.0000 - fn: 2340.0000 - precision: 0.8045 - recall: 0.7915 - auc: 0.9137\n",
            "Epoch 16/20\n",
            "29934/29934 [==============================] - 1s 24us/sample - loss: 0.5287 - accuracy: 0.0568 - tp: 8892.0000 - fp: 2055.0000 - tn: 16654.0000 - fn: 2333.0000 - precision: 0.8123 - recall: 0.7922 - auc: 0.9158\n",
            "Epoch 17/20\n",
            "29934/29934 [==============================] - 1s 24us/sample - loss: 0.6219 - accuracy: 0.0555 - tp: 8513.0000 - fp: 2279.0000 - tn: 16430.0000 - fn: 2712.0000 - precision: 0.7888 - recall: 0.7584 - auc: 0.8935\n",
            "Epoch 18/20\n",
            "29934/29934 [==============================] - 1s 25us/sample - loss: 0.5337 - accuracy: 0.0561 - tp: 8829.0000 - fp: 2056.0000 - tn: 16653.0000 - fn: 2396.0000 - precision: 0.8111 - recall: 0.7865 - auc: 0.9142\n",
            "Epoch 19/20\n",
            "29934/29934 [==============================] - 1s 25us/sample - loss: 0.6324 - accuracy: 0.0548 - tp: 8632.0000 - fp: 2456.0000 - tn: 16253.0000 - fn: 2593.0000 - precision: 0.7785 - recall: 0.7690 - auc: 0.8909\n",
            "Epoch 20/20\n",
            "29934/29934 [==============================] - 1s 25us/sample - loss: 0.5968 - accuracy: 0.0546 - tp: 8541.0000 - fp: 2138.0000 - tn: 16571.0000 - fn: 2684.0000 - precision: 0.7998 - recall: 0.7609 - auc: 0.8989\n"
          ],
          "name": "stdout"
        }
      ]
    },
    {
      "cell_type": "code",
      "metadata": {
        "id": "AiQxDko1-tEG",
        "colab_type": "code",
        "outputId": "0bfdd672-aa3b-4712-c240-b02a096591fa",
        "colab": {
          "base_uri": "https://localhost:8080/",
          "height": 204
        }
      },
      "source": [
        "resampled_results = resampled_model.evaluate(X_test, y_test)\n",
        "for name, value in zip(resampled_model.metrics_names, resampled_results):\n",
        "  print(name, ': ', value)"
      ],
      "execution_count": 102,
      "outputs": [
        {
          "output_type": "stream",
          "text": [
            "6565/6565 [==============================] - 1s 91us/sample - loss: 0.5431 - accuracy: 0.0062 - tp: 204.0000 - fp: 566.0000 - tn: 5653.0000 - fn: 142.0000 - precision: 0.2649 - recall: 0.5896 - auc: 0.8372\n",
            "loss :  0.5431165092946041\n",
            "accuracy :  0.00624524\n",
            "tp :  204.0\n",
            "fp :  566.0\n",
            "tn :  5653.0\n",
            "fn :  142.0\n",
            "precision :  0.26493508\n",
            "recall :  0.5895954\n",
            "auc :  0.83717173\n"
          ],
          "name": "stdout"
        }
      ]
    },
    {
      "cell_type": "code",
      "metadata": {
        "id": "cI-m9IUhBTdh",
        "colab_type": "code",
        "colab": {
          "base_uri": "https://localhost:8080/",
          "height": 167
        },
        "outputId": "651298be-0c6d-4ef2-d836-f5a73bd0ef68"
      },
      "source": [
        "predicted = resampled_model.predict(X_test)\n",
        "print(metrics.classification_report(y_test.values, (predicted.astype(np.int32))))"
      ],
      "execution_count": 107,
      "outputs": [
        {
          "output_type": "stream",
          "text": [
            "              precision    recall  f1-score   support\n",
            "\n",
            "           0       0.95      1.00      0.97      6219\n",
            "           1       0.62      0.09      0.16       346\n",
            "\n",
            "    accuracy                           0.95      6565\n",
            "   macro avg       0.78      0.54      0.57      6565\n",
            "weighted avg       0.93      0.95      0.93      6565\n",
            "\n"
          ],
          "name": "stdout"
        }
      ]
    },
    {
      "cell_type": "code",
      "metadata": {
        "id": "uKpimkh2AHBu",
        "colab_type": "code",
        "colab": {}
      },
      "source": [
        ""
      ],
      "execution_count": 0,
      "outputs": []
    }
  ]
}